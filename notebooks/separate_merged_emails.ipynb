{
 "cells": [
  {
   "cell_type": "code",
   "execution_count": 1,
   "id": "566fe56d",
   "metadata": {},
   "outputs": [
    {
     "name": "stdout",
     "output_type": "stream",
     "text": [
      "Original file size: 227.99 MB\n",
      "Splitting into 12 chunks of approximately 10945 rows each\n",
      "Part 1: 10945 rows, 21.57 MB\n",
      "Part 2: 10945 rows, 17.48 MB\n",
      "Part 3: 10945 rows, 17.26 MB\n",
      "Part 4: 10945 rows, 13.74 MB\n",
      "Part 5: 10945 rows, 20.11 MB\n",
      "Part 6: 10945 rows, 13.74 MB\n",
      "Part 7: 10945 rows, 24.99 MB\n",
      "Part 8: 10945 rows, 19.32 MB\n",
      "Part 9: 10945 rows, 18.29 MB\n",
      "Part 10: 10945 rows, 21.24 MB\n",
      "Part 11: 10945 rows, 21.42 MB\n",
      "Part 12: 10951 rows, 18.84 MB\n",
      "\n",
      "Files saved to: ../datasets/email_chunks\n"
     ]
    }
   ],
   "source": [
    "import pandas as pd\n",
    "import os\n",
    "\n",
    "# Read the large CSV file\n",
    "df = pd.read_csv('../datasets/merged_emails.csv')\n",
    "\n",
    "# Get file size in MB\n",
    "file_size = os.path.getsize('../datasets/merged_emails.csv') / (1024 * 1024)\n",
    "print(f\"Original file size: {file_size:.2f} MB\")\n",
    "\n",
    "# Calculate number of chunks needed (target < 25MB per chunk)\n",
    "num_chunks = int(file_size / 20) + 1  # Use 20MB as target to stay well under 25MB\n",
    "chunk_size = len(df) // num_chunks\n",
    "\n",
    "print(f\"Splitting into {num_chunks} chunks of approximately {chunk_size} rows each\")\n",
    "\n",
    "# Create output directory if it doesn't exist\n",
    "output_dir = '../datasets/email_chunks'\n",
    "os.makedirs(output_dir, exist_ok=True)\n",
    "\n",
    "# Split and save chunks\n",
    "for i in range(num_chunks):\n",
    "    start_idx = i * chunk_size\n",
    "    end_idx = (i + 1) * chunk_size if i < num_chunks - 1 else len(df)\n",
    "    \n",
    "    chunk_df = df.iloc[start_idx:end_idx]\n",
    "    output_file = f'{output_dir}/merged_emails_part_{i+1:02d}.csv'\n",
    "    chunk_df.to_csv(output_file, index=False)\n",
    "    \n",
    "    # Check chunk size\n",
    "    chunk_size_mb = os.path.getsize(output_file) / (1024 * 1024)\n",
    "    print(f\"Part {i+1}: {len(chunk_df)} rows, {chunk_size_mb:.2f} MB\")\n",
    "\n",
    "print(f\"\\nFiles saved to: {output_dir}\")"
   ]
  },
  {
   "cell_type": "code",
   "execution_count": null,
   "id": "2a89cd15",
   "metadata": {},
   "outputs": [],
   "source": []
  }
 ],
 "metadata": {
  "kernelspec": {
   "display_name": ".venv",
   "language": "python",
   "name": "python3"
  },
  "language_info": {
   "codemirror_mode": {
    "name": "ipython",
    "version": 3
   },
   "file_extension": ".py",
   "mimetype": "text/x-python",
   "name": "python",
   "nbconvert_exporter": "python",
   "pygments_lexer": "ipython3",
   "version": "3.12.3"
  }
 },
 "nbformat": 4,
 "nbformat_minor": 5
}
