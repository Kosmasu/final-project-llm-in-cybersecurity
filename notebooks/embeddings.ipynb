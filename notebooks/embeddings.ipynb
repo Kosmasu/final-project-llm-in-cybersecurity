{
 "cells": [
  {
   "cell_type": "code",
   "execution_count": null,
   "id": "0ca88226",
   "metadata": {},
   "outputs": [],
   "source": [
    "import pandas as pd\n",
    "import Stemmer\n",
    "from llama_index.core import VectorStoreIndex, Document, StorageContext\n",
    "from llama_index.core.settings import Settings\n",
    "from llama_index.core.node_parser import SentenceSplitter\n",
    "from llama_index.embeddings.huggingface import HuggingFaceEmbedding\n",
    "from llama_index.core.retrievers import QueryFusionRetriever\n",
    "from llama_index.retrievers.bm25 import BM25Retriever\n",
    "from llama_index.core.storage.docstore import SimpleDocumentStore\n"
   ]
  },
  {
   "cell_type": "code",
   "execution_count": 19,
   "id": "25d32c41",
   "metadata": {},
   "outputs": [
    {
     "name": "stdout",
     "output_type": "stream",
     "text": [
      "                                              sender  \\\n",
      "0                   Young Esposito <Young@iworld.de>   \n",
      "1                       Mok <ipline's1983@icable.ph>   \n",
      "2  Daily Top 10 <Karmandeep-opengevl@universalnet...   \n",
      "3                 Michael Parker <ivqrnai@pobox.com>   \n",
      "4  Gretchen Suggs <externalsep1@loanofficertool.com>   \n",
      "\n",
      "                                         receiver  \\\n",
      "0                     user4@gvc.ceas-challenge.cc   \n",
      "1                   user2.2@gvc.ceas-challenge.cc   \n",
      "2                   user2.9@gvc.ceas-challenge.cc   \n",
      "3  SpamAssassin Dev <xrh@spamassassin.apache.org>   \n",
      "4                   user2.2@gvc.ceas-challenge.cc   \n",
      "\n",
      "                              date  \\\n",
      "0  Tue, 05 Aug 2008 16:31:02 -0700   \n",
      "1  Tue, 05 Aug 2008 18:31:03 -0500   \n",
      "2  Tue, 05 Aug 2008 20:28:00 -1200   \n",
      "3  Tue, 05 Aug 2008 17:31:20 -0600   \n",
      "4  Tue, 05 Aug 2008 19:31:21 -0400   \n",
      "\n",
      "                                             subject  \\\n",
      "0                          Never agree to be a loser   \n",
      "1                             Befriend Jenna Jameson   \n",
      "2                               CNN.com Daily Top 10   \n",
      "3  Re: svn commit: r619753 - in /spamassassin/tru...   \n",
      "4                         SpecialPricesPharmMoreinfo   \n",
      "\n",
      "                                                body  label  urls       source  \n",
      "0  Buck up, your troubles caused by small dimensi...      1   1.0  CEAS_08.csv  \n",
      "1  \\nUpgrade your sex and pleasures with these te...      1   1.0  CEAS_08.csv  \n",
      "2  >+=+=+=+=+=+=+=+=+=+=+=+=+=+=+=+=+=+=+=+=+=+=+...      1   1.0  CEAS_08.csv  \n",
      "3  Would anyone object to removing .so from this ...      0   1.0  CEAS_08.csv  \n",
      "4  \\nWelcomeFastShippingCustomerSupport\\nhttp://7...      1   1.0  CEAS_08.csv  \n",
      "(131346, 8)\n",
      "Index(['sender', 'receiver', 'date', 'subject', 'body', 'label', 'urls',\n",
      "       'source'],\n",
      "      dtype='object')\n"
     ]
    }
   ],
   "source": [
    "# Load the CSV file\n",
    "df = pd.read_csv(\"../datasets/merged_emails.csv\")\n",
    "print(df.head())\n",
    "print(df.shape)\n",
    "print(df.columns)"
   ]
  },
  {
   "cell_type": "code",
   "execution_count": 16,
   "id": "5d655af6",
   "metadata": {},
   "outputs": [],
   "source": [
    "# # Only use the first 1000 rows\n",
    "# df = df.iloc[:1000]\n",
    "# print(df.shape)"
   ]
  },
  {
   "cell_type": "code",
   "execution_count": 25,
   "id": "a0921ab7",
   "metadata": {},
   "outputs": [
    {
     "data": {
      "application/vnd.jupyter.widget-view+json": {
       "model_id": "aafdfb1c481c496680e59c88802b35c8",
       "version_major": 2,
       "version_minor": 0
      },
      "text/plain": [
       "Finding newlines for mmindex:   0%|          | 0.00/419M [00:00<?, ?B/s]"
      ]
     },
     "metadata": {},
     "output_type": "display_data"
    }
   ],
   "source": [
    "# Initialize HuggingFace embedding model and configure settings\n",
    "embed_model = HuggingFaceEmbedding(model_name=\"sentence-transformers/all-MiniLM-L6-v2\")\n",
    "\n",
    "# Configure global settings with the embedding model\n",
    "Settings.embed_model = embed_model\n",
    "\n",
    "# Convert emails to documents\n",
    "documents = []\n",
    "for i, row in df.iterrows():\n",
    "    # ensure body is a string\n",
    "    if not isinstance(row[\"body\"], str) or not row[\"body\"]:\n",
    "        continue\n",
    "    text = str(row[\"body\"])\n",
    "    metadata = {\n",
    "        \"email_id\": i,\n",
    "        \"label\": int(row.get(\"label\", -1)),\n",
    "    }\n",
    "\n",
    "    doc = Document(text=text, metadata=metadata)\n",
    "    documents.append(doc)\n",
    "\n",
    "# Create a docstore to store nodes\n",
    "docstore = SimpleDocumentStore()\n",
    "\n",
    "# Create storage context\n",
    "storage_context = StorageContext.from_defaults(docstore=docstore)\n",
    "\n",
    "# Create a node parser with a larger chunk size to accommodate metadata\n",
    "splitter = SentenceSplitter(chunk_size=1024)  # Increased from default 1024\n",
    "\n",
    "nodes = splitter.get_nodes_from_documents(documents)\n",
    "\n",
    "# We can pass in the index, docstore, or list of nodes to create the retriever\n",
    "bm25_retriever = BM25Retriever.from_defaults(\n",
    "    nodes=nodes,\n",
    "    similarity_top_k=2,\n",
    "    stemmer=Stemmer.Stemmer(\"english\"),\n",
    "    language=\"english\",\n",
    ")\n",
    "\n",
    "bm25_retriever.persist(\"../bm25_retriever\")\n"
   ]
  },
  {
   "cell_type": "code",
   "execution_count": 18,
   "id": "3a4d3395",
   "metadata": {},
   "outputs": [
    {
     "name": "stdout",
     "output_type": "stream",
     "text": [
      "Retrieved nodes:\n",
      "A Diet Pill that Really Works!It’s called Hoodia Zombieii. It is a simple appetite suppressant that has been used for hundreds of years and we’ve got it here just for you.Lose weight FAST - click here!\n",
      "{'email_id': 17132, 'label': 1}\n",
      "-----\n",
      "A Diet Pill that Really Works!ItвЂ™s called Hoodia Zombieii. It is a simple appetite suppressant that has been used for hundreds of years and weвЂ™ve got it here just for you.Lose weight FAST - click here!\n",
      "{'email_id': 17644, 'label': 1}\n",
      "-----\n"
     ]
    }
   ],
   "source": [
    "# retrieve some scam email\n",
    "retrieved_nodes = bm25_retriever.retrieve(\"Diet pills\")\n",
    "print(\"Retrieved nodes:\")\n",
    "for node in retrieved_nodes:\n",
    "    print(node.get_text())\n",
    "    print(node.metadata)\n",
    "    print(\"-----\")"
   ]
  },
  {
   "cell_type": "code",
   "execution_count": null,
   "id": "36f4262b",
   "metadata": {},
   "outputs": [
    {
     "name": "stdout",
     "output_type": "stream",
     "text": [
      "Retrieved nodes:\n",
      "52.11211013793945\n",
      "A Diet Pill that Really Works!It’s called Hoodia Zombieii. It is a simple appetite suppressant that \n",
      "{'email_id': 111454, 'label': 1}\n",
      "-----\n",
      "51.18099594116211\n",
      "A Diet Pill that Really Works!ItÐ²Ð‚â„¢s called Hoodia Zombieii. It is a simple appetite suppressant\n",
      "{'email_id': 115793, 'label': 1}\n",
      "-----\n"
     ]
    }
   ],
   "source": [
    "\n",
    "from typing import List\n",
    "\n",
    "\n",
    "from llama_index.core.schema import NodeWithScore\n",
    "\n",
    "from settings import RETRIEVER_PATH\n",
    "\n",
    "\n",
    "loaded_bm25_retriever = BM25Retriever.from_persist_dir(RETRIEVER_PATH)\n",
    "\n",
    "# retrieve some scam email\n",
    "retrieved_nodes: List[NodeWithScore] = loaded_bm25_retriever.retrieve(\"Hoodia Zombieii\")\n",
    "print(\"Retrieved nodes:\")\n",
    "for node in retrieved_nodes:\n",
    "    print(node.get_score())\n",
    "    print(node.get_text()[:100].replace(\"\\n\", \" \"))\n",
    "    print(node.metadata)\n",
    "    print(\"-----\")\n"
   ]
  }
 ],
 "metadata": {
  "kernelspec": {
   "display_name": ".venv",
   "language": "python",
   "name": "python3"
  },
  "language_info": {
   "codemirror_mode": {
    "name": "ipython",
    "version": 3
   },
   "file_extension": ".py",
   "mimetype": "text/x-python",
   "name": "python",
   "nbconvert_exporter": "python",
   "pygments_lexer": "ipython3",
   "version": "3.12.3"
  }
 },
 "nbformat": 4,
 "nbformat_minor": 5
}
